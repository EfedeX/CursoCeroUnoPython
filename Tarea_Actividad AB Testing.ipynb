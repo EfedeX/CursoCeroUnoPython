{
 "cells": [
  {
   "cell_type": "code",
   "execution_count": 1,
   "metadata": {},
   "outputs": [],
   "source": [
    "import scipy.stats as st\n",
    "import seaborn as sns\n",
    "import pandas as pd\n",
    "import matplotlib.pyplot as plt"
   ]
  },
  {
   "cell_type": "code",
   "execution_count": 2,
   "metadata": {},
   "outputs": [],
   "source": [
    "df = pd.read_csv(\"DataSetMarketing.csv\", index_col=0)"
   ]
  },
  {
   "cell_type": "markdown",
   "metadata": {},
   "source": [
    "### EDA"
   ]
  },
  {
   "cell_type": "code",
   "execution_count": 4,
   "metadata": {},
   "outputs": [
    {
     "data": {
      "text/html": [
       "<div>\n",
       "<style scoped>\n",
       "    .dataframe tbody tr th:only-of-type {\n",
       "        vertical-align: middle;\n",
       "    }\n",
       "\n",
       "    .dataframe tbody tr th {\n",
       "        vertical-align: top;\n",
       "    }\n",
       "\n",
       "    .dataframe thead th {\n",
       "        text-align: right;\n",
       "    }\n",
       "</style>\n",
       "<table border=\"1\" class=\"dataframe\">\n",
       "  <thead>\n",
       "    <tr style=\"text-align: right;\">\n",
       "      <th></th>\n",
       "      <th>MarketID</th>\n",
       "      <th>MarketSize</th>\n",
       "      <th>LocationID</th>\n",
       "      <th>AgeOfStore</th>\n",
       "      <th>Promotion</th>\n",
       "      <th>week</th>\n",
       "      <th>SalesInThousands</th>\n",
       "    </tr>\n",
       "  </thead>\n",
       "  <tbody>\n",
       "    <tr>\n",
       "      <td>0</td>\n",
       "      <td>1</td>\n",
       "      <td>Medium</td>\n",
       "      <td>1</td>\n",
       "      <td>4</td>\n",
       "      <td>3</td>\n",
       "      <td>1</td>\n",
       "      <td>33.73</td>\n",
       "    </tr>\n",
       "    <tr>\n",
       "      <td>1</td>\n",
       "      <td>1</td>\n",
       "      <td>Medium</td>\n",
       "      <td>1</td>\n",
       "      <td>4</td>\n",
       "      <td>3</td>\n",
       "      <td>2</td>\n",
       "      <td>35.67</td>\n",
       "    </tr>\n",
       "    <tr>\n",
       "      <td>2</td>\n",
       "      <td>1</td>\n",
       "      <td>Medium</td>\n",
       "      <td>1</td>\n",
       "      <td>4</td>\n",
       "      <td>3</td>\n",
       "      <td>3</td>\n",
       "      <td>29.03</td>\n",
       "    </tr>\n",
       "    <tr>\n",
       "      <td>3</td>\n",
       "      <td>1</td>\n",
       "      <td>Medium</td>\n",
       "      <td>1</td>\n",
       "      <td>4</td>\n",
       "      <td>3</td>\n",
       "      <td>4</td>\n",
       "      <td>39.25</td>\n",
       "    </tr>\n",
       "    <tr>\n",
       "      <td>4</td>\n",
       "      <td>1</td>\n",
       "      <td>Medium</td>\n",
       "      <td>2</td>\n",
       "      <td>5</td>\n",
       "      <td>2</td>\n",
       "      <td>1</td>\n",
       "      <td>27.81</td>\n",
       "    </tr>\n",
       "  </tbody>\n",
       "</table>\n",
       "</div>"
      ],
      "text/plain": [
       "   MarketID MarketSize  LocationID  AgeOfStore  Promotion  week  \\\n",
       "0         1     Medium           1           4          3     1   \n",
       "1         1     Medium           1           4          3     2   \n",
       "2         1     Medium           1           4          3     3   \n",
       "3         1     Medium           1           4          3     4   \n",
       "4         1     Medium           2           5          2     1   \n",
       "\n",
       "   SalesInThousands  \n",
       "0             33.73  \n",
       "1             35.67  \n",
       "2             29.03  \n",
       "3             39.25  \n",
       "4             27.81  "
      ]
     },
     "execution_count": 4,
     "metadata": {},
     "output_type": "execute_result"
    }
   ],
   "source": [
    "df.head ()"
   ]
  },
  {
   "cell_type": "code",
   "execution_count": 5,
   "metadata": {},
   "outputs": [
    {
     "data": {
      "text/html": [
       "<div>\n",
       "<style scoped>\n",
       "    .dataframe tbody tr th:only-of-type {\n",
       "        vertical-align: middle;\n",
       "    }\n",
       "\n",
       "    .dataframe tbody tr th {\n",
       "        vertical-align: top;\n",
       "    }\n",
       "\n",
       "    .dataframe thead th {\n",
       "        text-align: right;\n",
       "    }\n",
       "</style>\n",
       "<table border=\"1\" class=\"dataframe\">\n",
       "  <thead>\n",
       "    <tr style=\"text-align: right;\">\n",
       "      <th></th>\n",
       "      <th>MarketID</th>\n",
       "      <th>LocationID</th>\n",
       "      <th>AgeOfStore</th>\n",
       "      <th>Promotion</th>\n",
       "      <th>week</th>\n",
       "      <th>SalesInThousands</th>\n",
       "    </tr>\n",
       "  </thead>\n",
       "  <tbody>\n",
       "    <tr>\n",
       "      <td>count</td>\n",
       "      <td>548.000000</td>\n",
       "      <td>548.000000</td>\n",
       "      <td>548.000000</td>\n",
       "      <td>548.000000</td>\n",
       "      <td>548.000000</td>\n",
       "      <td>548.000000</td>\n",
       "    </tr>\n",
       "    <tr>\n",
       "      <td>mean</td>\n",
       "      <td>5.715328</td>\n",
       "      <td>479.656934</td>\n",
       "      <td>8.503650</td>\n",
       "      <td>2.029197</td>\n",
       "      <td>2.500000</td>\n",
       "      <td>53.466204</td>\n",
       "    </tr>\n",
       "    <tr>\n",
       "      <td>std</td>\n",
       "      <td>2.877001</td>\n",
       "      <td>287.973679</td>\n",
       "      <td>6.638345</td>\n",
       "      <td>0.810729</td>\n",
       "      <td>1.119055</td>\n",
       "      <td>16.755216</td>\n",
       "    </tr>\n",
       "    <tr>\n",
       "      <td>min</td>\n",
       "      <td>1.000000</td>\n",
       "      <td>1.000000</td>\n",
       "      <td>1.000000</td>\n",
       "      <td>1.000000</td>\n",
       "      <td>1.000000</td>\n",
       "      <td>17.340000</td>\n",
       "    </tr>\n",
       "    <tr>\n",
       "      <td>25%</td>\n",
       "      <td>3.000000</td>\n",
       "      <td>216.000000</td>\n",
       "      <td>4.000000</td>\n",
       "      <td>1.000000</td>\n",
       "      <td>1.750000</td>\n",
       "      <td>42.545000</td>\n",
       "    </tr>\n",
       "    <tr>\n",
       "      <td>50%</td>\n",
       "      <td>6.000000</td>\n",
       "      <td>504.000000</td>\n",
       "      <td>7.000000</td>\n",
       "      <td>2.000000</td>\n",
       "      <td>2.500000</td>\n",
       "      <td>50.200000</td>\n",
       "    </tr>\n",
       "    <tr>\n",
       "      <td>75%</td>\n",
       "      <td>8.000000</td>\n",
       "      <td>708.000000</td>\n",
       "      <td>12.000000</td>\n",
       "      <td>3.000000</td>\n",
       "      <td>3.250000</td>\n",
       "      <td>60.477500</td>\n",
       "    </tr>\n",
       "    <tr>\n",
       "      <td>max</td>\n",
       "      <td>10.000000</td>\n",
       "      <td>920.000000</td>\n",
       "      <td>28.000000</td>\n",
       "      <td>3.000000</td>\n",
       "      <td>4.000000</td>\n",
       "      <td>99.650000</td>\n",
       "    </tr>\n",
       "  </tbody>\n",
       "</table>\n",
       "</div>"
      ],
      "text/plain": [
       "         MarketID  LocationID  AgeOfStore   Promotion        week  \\\n",
       "count  548.000000  548.000000  548.000000  548.000000  548.000000   \n",
       "mean     5.715328  479.656934    8.503650    2.029197    2.500000   \n",
       "std      2.877001  287.973679    6.638345    0.810729    1.119055   \n",
       "min      1.000000    1.000000    1.000000    1.000000    1.000000   \n",
       "25%      3.000000  216.000000    4.000000    1.000000    1.750000   \n",
       "50%      6.000000  504.000000    7.000000    2.000000    2.500000   \n",
       "75%      8.000000  708.000000   12.000000    3.000000    3.250000   \n",
       "max     10.000000  920.000000   28.000000    3.000000    4.000000   \n",
       "\n",
       "       SalesInThousands  \n",
       "count        548.000000  \n",
       "mean          53.466204  \n",
       "std           16.755216  \n",
       "min           17.340000  \n",
       "25%           42.545000  \n",
       "50%           50.200000  \n",
       "75%           60.477500  \n",
       "max           99.650000  "
      ]
     },
     "execution_count": 5,
     "metadata": {},
     "output_type": "execute_result"
    }
   ],
   "source": [
    "df.describe()"
   ]
  },
  {
   "cell_type": "code",
   "execution_count": 6,
   "metadata": {
    "scrolled": true
   },
   "outputs": [
    {
     "name": "stdout",
     "output_type": "stream",
     "text": [
      "<class 'pandas.core.frame.DataFrame'>\n",
      "Int64Index: 548 entries, 0 to 547\n",
      "Data columns (total 7 columns):\n",
      "MarketID            548 non-null int64\n",
      "MarketSize          548 non-null object\n",
      "LocationID          548 non-null int64\n",
      "AgeOfStore          548 non-null int64\n",
      "Promotion           548 non-null int64\n",
      "week                548 non-null int64\n",
      "SalesInThousands    548 non-null float64\n",
      "dtypes: float64(1), int64(5), object(1)\n",
      "memory usage: 34.2+ KB\n"
     ]
    }
   ],
   "source": [
    "df.info()"
   ]
  },
  {
   "cell_type": "code",
   "execution_count": 7,
   "metadata": {
    "scrolled": true
   },
   "outputs": [
    {
     "data": {
      "text/html": [
       "<div>\n",
       "<style scoped>\n",
       "    .dataframe tbody tr th:only-of-type {\n",
       "        vertical-align: middle;\n",
       "    }\n",
       "\n",
       "    .dataframe tbody tr th {\n",
       "        vertical-align: top;\n",
       "    }\n",
       "\n",
       "    .dataframe thead th {\n",
       "        text-align: right;\n",
       "    }\n",
       "</style>\n",
       "<table border=\"1\" class=\"dataframe\">\n",
       "  <thead>\n",
       "    <tr style=\"text-align: right;\">\n",
       "      <th></th>\n",
       "      <th>MarketID</th>\n",
       "      <th>MarketSize</th>\n",
       "      <th>LocationID</th>\n",
       "      <th>AgeOfStore</th>\n",
       "      <th>week</th>\n",
       "      <th>SalesInThousands</th>\n",
       "    </tr>\n",
       "    <tr>\n",
       "      <th>Promotion</th>\n",
       "      <th></th>\n",
       "      <th></th>\n",
       "      <th></th>\n",
       "      <th></th>\n",
       "      <th></th>\n",
       "      <th></th>\n",
       "    </tr>\n",
       "  </thead>\n",
       "  <tbody>\n",
       "    <tr>\n",
       "      <td>1</td>\n",
       "      <td>172</td>\n",
       "      <td>172</td>\n",
       "      <td>172</td>\n",
       "      <td>172</td>\n",
       "      <td>172</td>\n",
       "      <td>172</td>\n",
       "    </tr>\n",
       "    <tr>\n",
       "      <td>2</td>\n",
       "      <td>188</td>\n",
       "      <td>188</td>\n",
       "      <td>188</td>\n",
       "      <td>188</td>\n",
       "      <td>188</td>\n",
       "      <td>188</td>\n",
       "    </tr>\n",
       "    <tr>\n",
       "      <td>3</td>\n",
       "      <td>188</td>\n",
       "      <td>188</td>\n",
       "      <td>188</td>\n",
       "      <td>188</td>\n",
       "      <td>188</td>\n",
       "      <td>188</td>\n",
       "    </tr>\n",
       "  </tbody>\n",
       "</table>\n",
       "</div>"
      ],
      "text/plain": [
       "           MarketID  MarketSize  LocationID  AgeOfStore  week  \\\n",
       "Promotion                                                       \n",
       "1               172         172         172         172   172   \n",
       "2               188         188         188         188   188   \n",
       "3               188         188         188         188   188   \n",
       "\n",
       "           SalesInThousands  \n",
       "Promotion                    \n",
       "1                       172  \n",
       "2                       188  \n",
       "3                       188  "
      ]
     },
     "execution_count": 7,
     "metadata": {},
     "output_type": "execute_result"
    }
   ],
   "source": [
    "df.groupby(\"Promotion\").count()"
   ]
  },
  {
   "cell_type": "code",
   "execution_count": null,
   "metadata": {},
   "outputs": [],
   "source": [
    "#La promoción 2 y 3 llegaron a generar los mismos Call to actions en ventas. promo 1 hizo menos. \n",
    "#¿Cuál generó más ganancias?"
   ]
  },
  {
   "cell_type": "code",
   "execution_count": 8,
   "metadata": {},
   "outputs": [
    {
     "data": {
      "text/html": [
       "<div>\n",
       "<style scoped>\n",
       "    .dataframe tbody tr th:only-of-type {\n",
       "        vertical-align: middle;\n",
       "    }\n",
       "\n",
       "    .dataframe tbody tr th {\n",
       "        vertical-align: top;\n",
       "    }\n",
       "\n",
       "    .dataframe thead th {\n",
       "        text-align: right;\n",
       "    }\n",
       "</style>\n",
       "<table border=\"1\" class=\"dataframe\">\n",
       "  <thead>\n",
       "    <tr style=\"text-align: right;\">\n",
       "      <th></th>\n",
       "      <th>MarketID</th>\n",
       "      <th>LocationID</th>\n",
       "      <th>AgeOfStore</th>\n",
       "      <th>week</th>\n",
       "      <th>SalesInThousands</th>\n",
       "    </tr>\n",
       "    <tr>\n",
       "      <th>Promotion</th>\n",
       "      <th></th>\n",
       "      <th></th>\n",
       "      <th></th>\n",
       "      <th></th>\n",
       "      <th></th>\n",
       "    </tr>\n",
       "  </thead>\n",
       "  <tbody>\n",
       "    <tr>\n",
       "      <td>1</td>\n",
       "      <td>996</td>\n",
       "      <td>84016</td>\n",
       "      <td>1424</td>\n",
       "      <td>430</td>\n",
       "      <td>9993.03</td>\n",
       "    </tr>\n",
       "    <tr>\n",
       "      <td>2</td>\n",
       "      <td>1108</td>\n",
       "      <td>93520</td>\n",
       "      <td>1500</td>\n",
       "      <td>470</td>\n",
       "      <td>8897.93</td>\n",
       "    </tr>\n",
       "    <tr>\n",
       "      <td>3</td>\n",
       "      <td>1028</td>\n",
       "      <td>85316</td>\n",
       "      <td>1736</td>\n",
       "      <td>470</td>\n",
       "      <td>10408.52</td>\n",
       "    </tr>\n",
       "  </tbody>\n",
       "</table>\n",
       "</div>"
      ],
      "text/plain": [
       "           MarketID  LocationID  AgeOfStore  week  SalesInThousands\n",
       "Promotion                                                          \n",
       "1               996       84016        1424   430           9993.03\n",
       "2              1108       93520        1500   470           8897.93\n",
       "3              1028       85316        1736   470          10408.52"
      ]
     },
     "execution_count": 8,
     "metadata": {},
     "output_type": "execute_result"
    }
   ],
   "source": [
    "df.groupby(\"Promotion\").sum()"
   ]
  },
  {
   "cell_type": "code",
   "execution_count": null,
   "metadata": {},
   "outputs": [],
   "source": [
    "#La promoción 3 generó más ganancias (para la muestra, pero no necesariamente para la población)."
   ]
  },
  {
   "cell_type": "code",
   "execution_count": 9,
   "metadata": {},
   "outputs": [
    {
     "data": {
      "text/html": [
       "<div>\n",
       "<style scoped>\n",
       "    .dataframe tbody tr th:only-of-type {\n",
       "        vertical-align: middle;\n",
       "    }\n",
       "\n",
       "    .dataframe tbody tr th {\n",
       "        vertical-align: top;\n",
       "    }\n",
       "\n",
       "    .dataframe thead th {\n",
       "        text-align: right;\n",
       "    }\n",
       "</style>\n",
       "<table border=\"1\" class=\"dataframe\">\n",
       "  <thead>\n",
       "    <tr style=\"text-align: right;\">\n",
       "      <th></th>\n",
       "      <th>MarketID</th>\n",
       "      <th>LocationID</th>\n",
       "      <th>AgeOfStore</th>\n",
       "      <th>week</th>\n",
       "      <th>SalesInThousands</th>\n",
       "    </tr>\n",
       "    <tr>\n",
       "      <th>Promotion</th>\n",
       "      <th></th>\n",
       "      <th></th>\n",
       "      <th></th>\n",
       "      <th></th>\n",
       "      <th></th>\n",
       "    </tr>\n",
       "  </thead>\n",
       "  <tbody>\n",
       "    <tr>\n",
       "      <td>1</td>\n",
       "      <td>5.790698</td>\n",
       "      <td>488.465116</td>\n",
       "      <td>8.279070</td>\n",
       "      <td>2.5</td>\n",
       "      <td>58.099012</td>\n",
       "    </tr>\n",
       "    <tr>\n",
       "      <td>2</td>\n",
       "      <td>5.893617</td>\n",
       "      <td>497.446809</td>\n",
       "      <td>7.978723</td>\n",
       "      <td>2.5</td>\n",
       "      <td>47.329415</td>\n",
       "    </tr>\n",
       "    <tr>\n",
       "      <td>3</td>\n",
       "      <td>5.468085</td>\n",
       "      <td>453.808511</td>\n",
       "      <td>9.234043</td>\n",
       "      <td>2.5</td>\n",
       "      <td>55.364468</td>\n",
       "    </tr>\n",
       "  </tbody>\n",
       "</table>\n",
       "</div>"
      ],
      "text/plain": [
       "           MarketID  LocationID  AgeOfStore  week  SalesInThousands\n",
       "Promotion                                                          \n",
       "1          5.790698  488.465116    8.279070   2.5         58.099012\n",
       "2          5.893617  497.446809    7.978723   2.5         47.329415\n",
       "3          5.468085  453.808511    9.234043   2.5         55.364468"
      ]
     },
     "execution_count": 9,
     "metadata": {},
     "output_type": "execute_result"
    }
   ],
   "source": [
    "df.groupby(\"Promotion\").mean()"
   ]
  },
  {
   "cell_type": "code",
   "execution_count": null,
   "metadata": {},
   "outputs": [],
   "source": [
    "#Yet, promotion 1 has the greatest mean (¿Será la mejor? Lo verificaremos con las pruebas de hipótesis)"
   ]
  },
  {
   "cell_type": "markdown",
   "metadata": {},
   "source": [
    "### 5 Gráficas interpretadas"
   ]
  },
  {
   "cell_type": "code",
   "execution_count": 93,
   "metadata": {},
   "outputs": [
    {
     "data": {
      "image/png": "[encoded data removed]",
      "text/plain": [
       "<Figure size 1080x720 with 1 Axes>"
      ]
     },
     "metadata": {
      "needs_background": "light"
     },
     "output_type": "display_data"
    }
   ],
   "source": [
    "#Muestra el número de promociones que se registraron en la DB\n",
    "plt.figure(figsize=(15,10))\n",
    "sns.countplot(x=df['Promotion'], order= df['Promotion'].value_counts().index)\n",
    "plt.show()"
   ]
  },
  {
   "cell_type": "markdown",
   "metadata": {},
   "source": [
    "Esto nos indica que la cant. de veces utilizada por promoción es similar. \n"
   ]
  },
  {
   "cell_type": "code",
   "execution_count": 11,
   "metadata": {
    "scrolled": true
   },
   "outputs": [],
   "source": [
    "sale_sum = df.groupby(\"week\").sum()"
   ]
  },
  {
   "cell_type": "code",
   "execution_count": 19,
   "metadata": {},
   "outputs": [
    {
     "data": {
      "image/png": "[encoded data removed]",
      "text/plain": [
       "<Figure size 720x216 with 1 Axes>"
      ]
     },
     "metadata": {
      "needs_background": "light"
     },
     "output_type": "display_data"
    }
   ],
   "source": [
    "plt.figure(figsize=(10,3))\n",
    "sns.countplot(x=sale_sum['SalesInThousands'])\n",
    "plt.show()"
   ]
  },
  {
   "cell_type": "markdown",
   "metadata": {},
   "source": [
    "Esta grafica indica que el mayor numero de ventas se realizo en la semana 4, sin embargo el numero de ventas es muy similar al resto de las semanas. "
   ]
  },
  {
   "cell_type": "code",
   "execution_count": 21,
   "metadata": {},
   "outputs": [
    {
     "data": {
      "text/html": [
       "<div>\n",
       "<style scoped>\n",
       "    .dataframe tbody tr th:only-of-type {\n",
       "        vertical-align: middle;\n",
       "    }\n",
       "\n",
       "    .dataframe tbody tr th {\n",
       "        vertical-align: top;\n",
       "    }\n",
       "\n",
       "    .dataframe thead th {\n",
       "        text-align: right;\n",
       "    }\n",
       "</style>\n",
       "<table border=\"1\" class=\"dataframe\">\n",
       "  <thead>\n",
       "    <tr style=\"text-align: right;\">\n",
       "      <th></th>\n",
       "      <th>Promotion</th>\n",
       "      <th>week</th>\n",
       "      <th>SalesInThousands</th>\n",
       "    </tr>\n",
       "  </thead>\n",
       "  <tbody>\n",
       "    <tr>\n",
       "      <td>0</td>\n",
       "      <td>1</td>\n",
       "      <td>1</td>\n",
       "      <td>2504.51</td>\n",
       "    </tr>\n",
       "    <tr>\n",
       "      <td>1</td>\n",
       "      <td>1</td>\n",
       "      <td>2</td>\n",
       "      <td>2447.97</td>\n",
       "    </tr>\n",
       "    <tr>\n",
       "      <td>2</td>\n",
       "      <td>1</td>\n",
       "      <td>3</td>\n",
       "      <td>2527.32</td>\n",
       "    </tr>\n",
       "    <tr>\n",
       "      <td>3</td>\n",
       "      <td>1</td>\n",
       "      <td>4</td>\n",
       "      <td>2513.23</td>\n",
       "    </tr>\n",
       "    <tr>\n",
       "      <td>4</td>\n",
       "      <td>2</td>\n",
       "      <td>1</td>\n",
       "      <td>2243.32</td>\n",
       "    </tr>\n",
       "  </tbody>\n",
       "</table>\n",
       "</div>"
      ],
      "text/plain": [
       "   Promotion  week  SalesInThousands\n",
       "0          1     1           2504.51\n",
       "1          1     2           2447.97\n",
       "2          1     3           2527.32\n",
       "3          1     4           2513.23\n",
       "4          2     1           2243.32"
      ]
     },
     "execution_count": 21,
     "metadata": {},
     "output_type": "execute_result"
    }
   ],
   "source": [
    "#Agrupa la suma de las ventas por semana y promoción\n",
    "df_grp = df.groupby(['Promotion', 'week'])['SalesInThousands'].sum().reset_index()\n",
    "df_grp.head()"
   ]
  },
  {
   "cell_type": "code",
   "execution_count": 22,
   "metadata": {
    "scrolled": true
   },
   "outputs": [
    {
     "data": {
      "image/png": "[encoded data removed]",
      "text/plain": [
       "<Figure size 490.875x432 with 1 Axes>"
      ]
     },
     "metadata": {
      "needs_background": "light"
     },
     "output_type": "display_data"
    }
   ],
   "source": [
    "g = sns.catplot(x=\"week\", y=\"SalesInThousands\", hue=\"Promotion\", data=df_grp,height=6, kind=\"bar\", palette=\"muted\")"
   ]
  },
  {
   "cell_type": "markdown",
   "metadata": {},
   "source": [
    "Esta grafica nos indica que en todas las semanas hubo mayor venta de la promocion 3 y menor venta de la promocion 2."
   ]
  },
  {
   "cell_type": "code",
   "execution_count": 25,
   "metadata": {
    "scrolled": false
   },
   "outputs": [
    {
     "data": {
      "image/png": "[encoded data removed]",
      "text/plain": [
       "<Figure size 144x720 with 1 Axes>"
      ]
     },
     "metadata": {
      "needs_background": "light"
     },
     "output_type": "display_data"
    }
   ],
   "source": [
    "# Graficar las ventas por tamaño de mercado y tipo de promoción \n",
    "plt.figure(figsize=(2,10))\n",
    "sns.scatterplot(x=df[\"MarketSize\"],y=df[\"SalesInThousands\"],hue=df[\"Promotion\"], alpha=0.4)\n",
    "plt.show()"
   ]
  },
  {
   "cell_type": "markdown",
   "metadata": {},
   "source": [
    "Se observa que los mercados pequeños tienen una dispersión muy corta, mientras que la largas y medianas no tanto."
   ]
  },
  {
   "cell_type": "code",
   "execution_count": 60,
   "metadata": {},
   "outputs": [],
   "source": [
    "# Crear un nuevo DF agrupando las ventas en suma por edad de tienda y promocion \n",
    "df_grp1 = df.groupby(['Promotion', 'AgeOfStore'])['SalesInThousands'].sum().reset_index()"
   ]
  },
  {
   "cell_type": "code",
   "execution_count": 92,
   "metadata": {},
   "outputs": [
    {
     "data": {
      "image/png": "[encoded data removed]",
      "text/plain": [
       "<Figure size 1138.88x720 with 1 Axes>"
      ]
     },
     "metadata": {
      "needs_background": "light"
     },
     "output_type": "display_data"
    }
   ],
   "source": [
    "g1 = sns.catplot(x=\"AgeOfStore\", y=\"SalesInThousands\", hue=\"Promotion\", data=df_grp1,height=10, aspect=1.5, kind=\"bar\", palette=\"muted\")\n",
    "plt.show ()\n"
   ]
  },
  {
   "cell_type": "markdown",
   "metadata": {},
   "source": [
    "Gráfica que indica que existe una correlación negativa entre el número de ventas y la antigüedad del negocio."
   ]
  },
  {
   "cell_type": "code",
   "execution_count": 26,
   "metadata": {},
   "outputs": [
    {
     "name": "stdout",
     "output_type": "stream",
     "text": [
      "El valor de t es igual a:6.453671702181005\n",
      "El valor de p es igual a:3.5506696512134566e-10\n"
     ]
    }
   ],
   "source": [
    "t, p = st.ttest_ind(df.loc[df['Promotion'] == 1,'SalesInThousands',].values,\n",
    "                       df.loc[df['Promotion'] == 2, 'SalesInThousands'].values,\n",
    "                       equal_var=True)\n",
    "print ((\"El valor de t es igual a:{}\").format(t)) \n",
    "print ((\"El valor de p es igual a:{}\").format(p)) "
   ]
  },
  {
   "cell_type": "code",
   "execution_count": 30,
   "metadata": {},
   "outputs": [
    {
     "name": "stdout",
     "output_type": "stream",
     "text": [
      "El valor de t es igual a:1.5551383687293547\n",
      "El valor de p es igual a:0.12079667272313273\n"
     ]
    }
   ],
   "source": [
    "t, p = st.ttest_ind(df.loc[df['Promotion'] == 1,'SalesInThousands',].values,\n",
    "                       df.loc[df['Promotion'] == 3, 'SalesInThousands'].values,\n",
    "                       equal_var=True)\n",
    "print ((\"El valor de t es igual a:{}\").format(t)) \n",
    "print ((\"El valor de p es igual a:{}\").format(p))"
   ]
  },
  {
   "cell_type": "code",
   "execution_count": 28,
   "metadata": {
    "scrolled": true
   },
   "outputs": [
    {
     "name": "stdout",
     "output_type": "stream",
     "text": [
      "El valor de t es igual a:-4.88139271089348\n",
      "El valor de p es igual a:1.562894303627738e-06\n"
     ]
    }
   ],
   "source": [
    "t, p = st.ttest_ind(df.loc[df['Promotion'] == 2,'SalesInThousands',].values,\n",
    "                       df.loc[df['Promotion'] == 3, 'SalesInThousands'].values,\n",
    "                       equal_var=True)\n",
    "\n",
    "print ((\"El valor de t es igual a:{}\").format(t)) \n",
    "print ((\"El valor de p es igual a:{}\").format(p)) "
   ]
  },
  {
   "cell_type": "code",
   "execution_count": null,
   "metadata": {},
   "outputs": [],
   "source": [
    "#Conlusión: #Dado que p es positiva se puede sospechar que la media de la poblacion de A (promoción 1) es mayor de B (promoción 2)."
   ]
  },
  {
   "cell_type": "markdown",
   "metadata": {},
   "source": [
    "### ¿Cuál fue la mejor promo?"
   ]
  },
  {
   "cell_type": "code",
   "execution_count": 3,
   "metadata": {},
   "outputs": [],
   "source": [
    "#La Promo 3."
   ]
  },
  {
   "cell_type": "code",
   "execution_count": 4,
   "metadata": {},
   "outputs": [],
   "source": [
    "import numpy as np"
   ]
  },
  {
   "cell_type": "code",
   "execution_count": 6,
   "metadata": {},
   "outputs": [],
   "source": [
    "df_1= df[df[\"Promotion\"]==1]\n",
    "df_2= df[df[\"Promotion\"]==2]\n",
    "df_3= df[df[\"Promotion\"]==3]\n",
    "\n",
    "#Saca una muestra aleatoria de cada df por promoción\n",
    "sampleMeans_1 = []\n",
    "for m in range(1000):\n",
    "    samples = df_1[\"SalesInThousands\"].sample(n=100)\n",
    "    sampleMean = np.mean(samples)\n",
    "    sampleMeans_1.append(sampleMean)\n",
    "sampleMeans_2 = []\n",
    "for m in range(1000):\n",
    "    samples = df_2[\"SalesInThousands\"].sample(n=100)\n",
    "    sampleMean = np.mean(samples)\n",
    "    sampleMeans_2.append(sampleMean)\n",
    "sampleMeans_3 = []\n",
    "for m in range(1000):\n",
    "    samples = df_3[\"SalesInThousands\"].sample(n=100)\n",
    "    sampleMean = np.mean(samples)\n",
    "    sampleMeans_3.append(sampleMean)"
   ]
  },
  {
   "cell_type": "code",
   "execution_count": 7,
   "metadata": {},
   "outputs": [
    {
     "data": {
      "image/png": "[encoded data removed]",
      "text/plain": [
       "<Figure size 432x288 with 1 Axes>"
      ]
     },
     "metadata": {
      "needs_background": "light"
     },
     "output_type": "display_data"
    }
   ],
   "source": [
    "#Promocion 1\n",
    "sns.distplot([sampleMeans_1], bins=30, kde=True, rug=True)\n",
    "plt.show()"
   ]
  },
  {
   "cell_type": "code",
   "execution_count": 8,
   "metadata": {},
   "outputs": [
    {
     "data": {
      "image/png": "[encoded data removed]",
      "text/plain": [
       "<Figure size 432x288 with 1 Axes>"
      ]
     },
     "metadata": {
      "needs_background": "light"
     },
     "output_type": "display_data"
    }
   ],
   "source": [
    "#Promocion 2\n",
    "sns.distplot([sampleMeans_2], bins=30, kde=True, rug=True)\n",
    "plt.show()"
   ]
  },
  {
   "cell_type": "code",
   "execution_count": 9,
   "metadata": {
    "scrolled": true
   },
   "outputs": [
    {
     "data": {
      "image/png": "[encoded data removed]",
      "text/plain": [
       "<Figure size 432x288 with 1 Axes>"
      ]
     },
     "metadata": {
      "needs_background": "light"
     },
     "output_type": "display_data"
    }
   ],
   "source": [
    "#Promocion 3\n",
    "sns.distplot([sampleMeans_3], bins=30, kde=True, rug=True)\n",
    "plt.show()"
   ]
  },
  {
   "cell_type": "code",
   "execution_count": null,
   "metadata": {},
   "outputs": [],
   "source": [
    "#Comprueban que muestras aleatorias siguen la forma de una distribución normal (de la población original)."
   ]
  },
  {
   "cell_type": "markdown",
   "metadata": {},
   "source": [
    "### ¿Te atreverías a presentar este reporte a tu jefe?"
   ]
  },
  {
   "cell_type": "markdown",
   "metadata": {},
   "source": [
    "No realmente. Aún no me siento seguro de saber interpretar correctamente los datos. \n",
    "Sacarlos es poco más que sencillo; lo complicado es deducir conclusiones de los datos y para\n",
    "eso requiero tener mucho insight sobre lo que se está haciendo. Aún tengo cosas que no llego a entender\n",
    "con claridad, para lo cual debo seguir estudiando y practicar más. "
   ]
  }
 ],
 "metadata": {
  "kernelspec": {
   "display_name": "Python 3",
   "language": "python",
   "name": "python3"
  },
  "language_info": {
   "codemirror_mode": {
    "name": "ipython",
    "version": 3
   },
   "file_extension": ".py",
   "mimetype": "text/x-python",
   "name": "python",
   "nbconvert_exporter": "python",
   "pygments_lexer": "ipython3",
   "version": "3.7.4"
  }
 },
 "nbformat": 4,
 "nbformat_minor": 2
}
