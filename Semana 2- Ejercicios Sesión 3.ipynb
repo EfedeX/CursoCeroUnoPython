{
 "cells": [
  {
   "cell_type": "markdown",
   "metadata": {},
   "source": [
    "## Ejercicios Sesión 3"
   ]
  },
  {
   "cell_type": "markdown",
   "metadata": {},
   "source": [
    "1. Escribe un script que tome un número ingresado por el usuario e imprima si es positivo, negativo o cero.\n",
    "\n",
    " Debe imprimirse de la siguiente forma \"El número ingresado es (positivo / negativo / cero)\"."
   ]
  },
  {
   "cell_type": "code",
   "execution_count": 2,
   "metadata": {},
   "outputs": [
    {
     "name": "stdout",
     "output_type": "stream",
     "text": [
      "Ingrese un número real\n",
      "4547.153\n",
      "El número ingresado es positivo\n"
     ]
    }
   ],
   "source": [
    "print(\"Ingrese un número real\")\n",
    "numero = float(input())\n",
    "if numero > 0:\n",
    "    print(\"El número ingresado es positivo\")\n",
    "elif numero == 0:\n",
    "    print(\"El número ingresado es cero\")\n",
    "elif numero < 0:\n",
    "    print(\"El número ingresado es negativo\")\n",
    "else:\n",
    "    print(\"Número no válido. Ingrese un número real.\")"
   ]
  },
  {
   "cell_type": "markdown",
   "metadata": {},
   "source": [
    "2. Escribe una secuencia de comandos que tome dos números ingresados por el usuario e imprima \"El primer número es mayor\" o \"El segundo número es mayor\" dependiendo de cuál sea mayor. (** Sugerencia **: necesitará usar `input ()` dos veces.)"
   ]
  },
  {
   "cell_type": "code",
   "execution_count": 1,
   "metadata": {},
   "outputs": [
    {
     "name": "stdout",
     "output_type": "stream",
     "text": [
      "Ingrese un número\n",
      "55\n",
      "Ingrese otro número\n",
      "0\n",
      "El primer número es mayor\n"
     ]
    }
   ],
   "source": [
    "print(\"Ingrese un número\")\n",
    "numero_1 = float(input())\n",
    "print(\"Ingrese otro número\")\n",
    "numero_2 = float(input())\n",
    "if numero_1 > numero_2:\n",
    "    print(\"El primer número es mayor\")\n",
    "elif numero_1 < numero_2:\n",
    "    print(\"El segundo número es mayor\")\n",
    "elif numero_1 == numero_2:\n",
    "    print(\"Ambos números son iguales\")\n",
    "else:\n",
    "    print(\"Número no válido. Ingrese un número real.\")"
   ]
  },
  {
   "cell_type": "markdown",
   "metadata": {},
   "source": [
    "3. Escriba un script que calcule la suma de 0 a un número ingresado por el usuario. Sin embargo, esta vez, comience con el número ingresado por el usuario y continúe hacia abajo. Esta respuesta se parecerá mucho al ejemplo anterior, solo tendrá que cambiar un par de cosas."
   ]
  },
  {
   "cell_type": "code",
   "execution_count": 23,
   "metadata": {},
   "outputs": [
    {
     "name": "stdout",
     "output_type": "stream",
     "text": [
      "Ingrese un número entero positivo\n",
      "2\n",
      "La suma del valor ingresado hasta 0 es igual a:  3\n"
     ]
    }
   ],
   "source": [
    "print(\"Ingrese un número entero positivo\")\n",
    "numero = int(input())\n",
    "lista_numero = list(range(numero+1))\n",
    "lista_numero.reverse()\n",
    "x=0\n",
    "for n in lista_numero:\n",
    "    x += n\n",
    "print(\"La suma del valor ingresado hasta 0 es igual a: \",x)"
   ]
  },
  {
   "cell_type": "markdown",
   "metadata": {},
   "source": [
    "4. Escriba un script que calcule el factorial de un número ingresado por el usuario. Si no sabe qué es un factorial o necesita una revisión, consulte el enlace (https://en.wikipedia.org/wiki/Factorial). Una vez más, su solución se parecerá mucho al código anterior. Cosas que debes pensar:\n",
    "    * ¿Cuál es el proceso de calcular un factorial si fuera a calcularlo a mano?\n",
    "    * ¿Cuál es el punto de partida común cuando se trata de calcular el factorial de cualquier número? <br> <br>"
   ]
  },
  {
   "cell_type": "code",
   "execution_count": 52,
   "metadata": {},
   "outputs": [
    {
     "name": "stdout",
     "output_type": "stream",
     "text": [
      "Ingrese un número entero positivo para calcular su factorial\n",
      "0\n",
      "El factorial de 0 es: 0\n"
     ]
    }
   ],
   "source": [
    "print(\"Ingrese un número entero para calcular su factorial\")\n",
    "numero = int(input())\n",
    "if numero == 0:\n",
    "    print(\"El factorial de 0 es: 0\")\n",
    "else:\n",
    "    lista_numero_2 = list(range(numero+1))\n",
    "    lista_numero_2.reverse()\n",
    "    lista_numero_2.remove(0)\n",
    "    x=1\n",
    "    for n in lista_numero_2:\n",
    "        if n>0:\n",
    "            x *= n\n",
    "    print(\"el factorial del valor ingresado es igual a: \",x)"
   ]
  },
  {
   "cell_type": "markdown",
   "metadata": {},
   "source": [
    "5. Escriba un script que calcule e imprima todos los divisores de un número ingresado por el usuario. Si no sabe qué es un divisor o necesita una revisión, consulte el enlace(https://en.wikipedia.org/wiki/Divisor). Cosas para pensar:\n",
    "    * ¿Cómo se determina si un solo número es un divisor de otro?\n",
    "    * ¿Cómo haces esto varias veces (** Sugerencia **: implica un ciclo while)?\n",
    "    * ¿Cuándo detiene el ciclo? <br> <br>"
   ]
  },
  {
   "cell_type": "code",
   "execution_count": 57,
   "metadata": {},
   "outputs": [
    {
     "name": "stdout",
     "output_type": "stream",
     "text": [
      "Ingrese un número entero positivo\n",
      "1\n",
      "Los divisores del número ingresado son:  [1]\n"
     ]
    }
   ],
   "source": [
    "#An integer n is divisible by another integer m if m is a divisor of n; \n",
    "#this implies dividing n by m leaves no remainder.\n",
    "\n",
    "print(\"Ingrese un número entero positivo\")\n",
    "numero = int(input())\n",
    "contador = 1\n",
    "divisor = []\n",
    "while contador <= numero:\n",
    "    if (numero%contador) == 0:\n",
    "        divisor.append(contador)\n",
    "        contador += 1\n",
    "    else:\n",
    "        contador += 1\n",
    "print(\"Los divisores del número ingresado son: \",divisor)"
   ]
  },
  {
   "cell_type": "markdown",
   "metadata": {},
   "source": [
    "6. Escriba un script que calcule el máximo divisor común entre dos números ingresados por el usuario. Si no sabe cuál es el mayor divisor común, consulte el enlace (https://en.wikipedia.org/wiki/Greatest_common_divisor). Cosas para pensar:\n",
    "    * ¿Cómo se obtienen dos números del usuario?\n",
    "    * ¿Dónde debe comenzar su búsqueda del GCD?\n",
    "    * ¿Dónde / cómo debe finalizar su búsqueda? <br> <br>"
   ]
  },
  {
   "cell_type": "code",
   "execution_count": 81,
   "metadata": {},
   "outputs": [
    {
     "name": "stdout",
     "output_type": "stream",
     "text": [
      "Cálculo del máximo común divisor\n",
      "Ingrese un número\n",
      "8\n",
      "Ingrese otro número (distinto)\n",
      "12\n",
      "4\n"
     ]
    }
   ],
   "source": [
    "print(\"Cálculo del máximo común divisor\")\n",
    "print(\"Ingrese un número\")\n",
    "numero_1 = int(input())\n",
    "print(\"Ingrese otro número (distinto)\")\n",
    "numero_2 = int(input())\n",
    "\n",
    "if numero_1 > numero_2: \n",
    "    small = numero_2\n",
    "else: \n",
    "    small = numero_1\n",
    "for i in range(1, small+1): \n",
    "    if((numero_1 % i == 0) and (numero_2 % i == 0)): \n",
    "        mdc = i \n",
    "\n",
    "print(\"El máximo común divisor es: \",mdc) \n"
   ]
  },
  {
   "cell_type": "markdown",
   "metadata": {},
   "source": [
    "7. Escribe un script que calcule el mínimo común múltiplo entre dos números ingresados por el usuario. Si no sabes cuál es el mínimo común múltiplo o deseas una revisión, puedes consultar (https://en.wikipedia.org/wiki/Least_common_multiple). Cosas para pensar:\n",
    "    * ¿Cómo se obtienen dos números del usuario?\n",
    "    * ¿Dónde debe comenzar su búsqueda del LCM?\n",
    "    * ¿Dónde / cómo debe finalizar su búsqueda? <br> <br>"
   ]
  },
  {
   "cell_type": "code",
   "execution_count": 76,
   "metadata": {},
   "outputs": [
    {
     "name": "stdout",
     "output_type": "stream",
     "text": [
      "Cálculo del mínimo común múltiplo\n",
      "Ingrese un número\n",
      "5\n",
      "Ingrese otro número\n",
      "10\n",
      "El mínimo común múltiplo es:  10.0\n"
     ]
    }
   ],
   "source": [
    "print(\"Cálculo del mínimo común múltiplo\")\n",
    "print(\"Ingrese un número\")\n",
    "numero_1 = float(input())\n",
    "print(\"Ingrese otro número\")\n",
    "numero_2 = float(input())\n",
    "if numero_1 > numero_2:\n",
    "       greater = numero_1\n",
    "else:\n",
    "        greater = numero_2\n",
    "while(True):\n",
    "    if((greater % numero_1 == 0) and (greater % numero_2 == 0)):\n",
    "        mcm = greater\n",
    "        break\n",
    "    greater += 1\n",
    "print(\"El mínimo común múltiplo es: \",mcm)\n"
   ]
  },
  {
   "cell_type": "markdown",
   "metadata": {},
   "source": [
    "8. Escribe una secuencia de comandos que determine si un número ingresado por el usuario es un número primo e imprime `` El número que ingresó es (no es) un número primo '', según lo que encuentre su secuencia de comandos. Si no sabes qué es un número primo o necesita una revisión, consulte el enlace (https://en.wikipedia.org/wiki/Prime_number). Cosas para pensar:\n",
    "    * ¿Cómo verifica si un número es divisible por otro número?\n",
    "    * ¿Qué números son divisibles por un número primo?\n",
    "    * ¿Cómo verifica todos los números por los que un número puede ser divisible (** Sugerencia **: use un bucle)?\n",
    "    * ¿Cuándo detiene el ciclo? <br> <br>"
   ]
  },
  {
   "cell_type": "code",
   "execution_count": 71,
   "metadata": {},
   "outputs": [
    {
     "name": "stdout",
     "output_type": "stream",
     "text": [
      "Ingresa un número: 9\n",
      "9 no es un número primo\n"
     ]
    }
   ],
   "source": [
    "numero = int(input(\"Ingresa un número: \"))  \n",
    "  \n",
    "if numero > 1:  \n",
    "    for i in range(2,numero): \n",
    "        if (numero % i) == 0:  \n",
    "            print(numero,\"no es un número primo\")   \n",
    "            break  \n",
    "    else:  \n",
    "        print(numero,\" es número primo\")  \n",
    "         \n",
    "else:  \n",
    "    print(numero,\"no es un número primo\")  "
   ]
  }
 ],
 "metadata": {
  "kernelspec": {
   "display_name": "Python 3",
   "language": "python",
   "name": "python3"
  },
  "language_info": {
   "codemirror_mode": {
    "name": "ipython",
    "version": 3
   },
   "file_extension": ".py",
   "mimetype": "text/x-python",
   "name": "python",
   "nbconvert_exporter": "python",
   "pygments_lexer": "ipython3",
   "version": "3.7.4"
  }
 },
 "nbformat": 4,
 "nbformat_minor": 2
}
