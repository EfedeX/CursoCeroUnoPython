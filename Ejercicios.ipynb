{
 "cells": [
  {
   "cell_type": "markdown",
   "metadata": {},
   "source": [
    "# Ejercicios de la primera semana\n",
    "\n",
    "A continuación se muestran algunos ejercicios sobre los temas de la semana: \n",
    "\n",
    "\n",
    "#### 1. Calcula el número $\\pi$ usando la fórmula\n",
    "\n",
    "$$\\pi=2\\prod_{i=1}^{\\infty}\\frac{4 i^2 }{4i^2-1 }$$\n",
    "\n",
    "\n",
    "\n"
   ]
  },
  {
   "cell_type": "code",
   "execution_count": 6,
   "metadata": {},
   "outputs": [
    {
     "name": "stdout",
     "output_type": "stream",
     "text": [
      "Aproximar hasta el número: 10000\n",
      "3.1415141108281714\n"
     ]
    }
   ],
   "source": [
    "n = int(input(\"Aproximar hasta el número: \"))\n",
    "pi_aprox = 1\n",
    "for i in range(1,n):\n",
    "    num = 4*(i**2)\n",
    "    div = (4*(i**2))-1\n",
    "    pi_aprox *= (num/div)\n",
    "print(2*pi_aprox)"
   ]
  },
  {
   "cell_type": "markdown",
   "metadata": {},
   "source": [
    "#### 2. Calcula las primeras 10 potencias de 2 ($2^n$). Guarda los valores para cada uno de los exponentes y regresa la suma como valor.\n"
   ]
  },
  {
   "cell_type": "code",
   "execution_count": 11,
   "metadata": {},
   "outputs": [
    {
     "name": "stdout",
     "output_type": "stream",
     "text": [
      "1023\n"
     ]
    }
   ],
   "source": [
    "num=0\n",
    "for n in range(10):\n",
    "    num += 2**n\n",
    "print(num)"
   ]
  },
  {
   "cell_type": "markdown",
   "metadata": {},
   "source": [
    "#### 3. Obtener los primeros 10 numeros pares "
   ]
  },
  {
   "cell_type": "code",
   "execution_count": 15,
   "metadata": {},
   "outputs": [
    {
     "data": {
      "text/plain": [
       "[2, 4, 6, 8, 10, 12, 14, 16, 18, 20]"
      ]
     },
     "execution_count": 15,
     "metadata": {},
     "output_type": "execute_result"
    }
   ],
   "source": [
    "lista = list(range(2,21))\n",
    "lista[0::2]"
   ]
  },
  {
   "cell_type": "markdown",
   "metadata": {},
   "source": [
    "\n",
    "#### 4. Escriba una función que nos permita calcular la suma de los cuadrados de dos números\n"
   ]
  },
  {
   "cell_type": "code",
   "execution_count": 54,
   "metadata": {},
   "outputs": [
    {
     "name": "stdout",
     "output_type": "stream",
     "text": [
      "25\n"
     ]
    }
   ],
   "source": [
    "def suma_cuadrados(x,y):\n",
    "    suma = x**2+y**2\n",
    "    return suma\n",
    "print(suma_cuadrados(3,4))"
   ]
  },
  {
   "cell_type": "markdown",
   "metadata": {},
   "source": [
    "#### 5. Escriba una función que calcule, guarde en una lista y muestre los elementos de la secuencia de Fibonacci"
   ]
  },
  {
   "cell_type": "code",
   "execution_count": 22,
   "metadata": {},
   "outputs": [
    {
     "name": "stdout",
     "output_type": "stream",
     "text": [
      "21\n"
     ]
    }
   ],
   "source": [
    "def fibonacci(n): \n",
    "    a = 0\n",
    "    b = 1\n",
    "    for i in range(2,n): \n",
    "        c = a + b \n",
    "        a = b \n",
    "        b = c \n",
    "    return b \n",
    "print(fibonacci(9)) "
   ]
  },
  {
   "cell_type": "markdown",
   "metadata": {},
   "source": [
    "#### 6. Crear una función que reciba un parámetro númerico e imprima el nombre de una fruta:  *Naranjas* si el parámetro es igual a 0, *Manzanas* si el parámetro es igual a 1 y *Peras* si el paráemtro es igual a 2 "
   ]
  },
  {
   "cell_type": "code",
   "execution_count": 26,
   "metadata": {},
   "outputs": [
    {
     "name": "stdout",
     "output_type": "stream",
     "text": [
      "Manzanas\n",
      "None\n"
     ]
    }
   ],
   "source": [
    "def frutas(n):\n",
    "    if n == 0:\n",
    "        print(\"Naranjas\")\n",
    "    elif n == 1:\n",
    "        print(\"Manzanas\")\n",
    "    elif n == 2:\n",
    "        print(\"Peras\")\n",
    "    else:\n",
    "        print(\"Favor de elegir el 0, 1 ó 2 como parámetro\")\n",
    "    return None\n",
    "print(frutas(1))"
   ]
  },
  {
   "cell_type": "markdown",
   "metadata": {},
   "source": [
    "#### 7. Crear una función la función error: imprima un mensaje que notifique al usuario si existe un error\n"
   ]
  },
  {
   "cell_type": "code",
   "execution_count": 32,
   "metadata": {},
   "outputs": [
    {
     "name": "stdout",
     "output_type": "stream",
     "text": [
      "Cometiste un error\n",
      "None\n"
     ]
    }
   ],
   "source": [
    "def error():\n",
    "    print(\"Cometiste un error\")\n",
    "    return None\n",
    "print(error())\n"
   ]
  },
  {
   "cell_type": "markdown",
   "metadata": {},
   "source": [
    "#### 8. Definamos la función matemática del valor absoluto de un número:  Si el número de entrada es negativo, devolver el valor e imprimir un mensaje semejante a \"El valor absoluto es:\". Si no, devolver el valor del número introducido e imprimir el mismo mensaje\n",
    "   "
   ]
  },
  {
   "cell_type": "code",
   "execution_count": 9,
   "metadata": {},
   "outputs": [
    {
     "name": "stdout",
     "output_type": "stream",
     "text": [
      "Valor absoluto de: -455\n",
      "El valor absoluto es:  455\n"
     ]
    }
   ],
   "source": [
    "valor_absoluto = int(input(\"Valor absoluto de: \"))\n",
    "if valor_absoluto == valor_absoluto and valor_absoluto > 0:\n",
    "    print(\"El valor absoluto es: \",valor_absoluto)\n",
    "elif valor_absoluto == valor_absoluto and valor_absoluto < 0:\n",
    "    valor_absoluto = valor_absoluto*(-1)\n",
    "    print(\"El valor absoluto es: \", valor_absoluto)\n"
   ]
  },
  {
   "cell_type": "markdown",
   "metadata": {},
   "source": [
    "#### 9.Defininir una función que realice el cambio del valor de dos variables: el valor de la primera se otorga a la segunda y viceversa. \n",
    "\n",
    "\n"
   ]
  },
  {
   "cell_type": "code",
   "execution_count": 10,
   "metadata": {},
   "outputs": [
    {
     "name": "stdout",
     "output_type": "stream",
     "text": [
      "(25, 5)\n"
     ]
    }
   ],
   "source": [
    "def cambio_variable(a,b):\n",
    "    c=a\n",
    "    a=b\n",
    "    b=c\n",
    "    return a,b\n",
    "print(cambio_variable(5,25))"
   ]
  },
  {
   "cell_type": "markdown",
   "metadata": {},
   "source": [
    "#### 10. Cree un programa que le pida al usuario que ingrese su nombre y su edad. Imprima un mensaje dirigido a ellos que les diga el año en que cumplirán 100 años."
   ]
  },
  {
   "cell_type": "code",
   "execution_count": 12,
   "metadata": {},
   "outputs": [
    {
     "name": "stdout",
     "output_type": "stream",
     "text": [
      "Ingrese su nombre: Gandalf\n",
      "Ingrese su edad: 127\n",
      "Cumplirá 100 años en el año: 1993, Gandalf\n"
     ]
    }
   ],
   "source": [
    "nombre = input(\"Ingrese su nombre: \")\n",
    "edad = int(input(\"Ingrese su edad: \"))\n",
    "cien_anios = 2020+100-edad\n",
    "print(\"Cumplirá 100 años en el año: \"+ str(cien_anios)+\", \"+nombre)"
   ]
  },
  {
   "cell_type": "markdown",
   "metadata": {},
   "source": [
    "#### 11. Pregunte al usuario por un número. Dependiendo de si el número es par o impar, imprima un mensaje apropiado para el usuario.\n",
    "\n"
   ]
  },
  {
   "cell_type": "code",
   "execution_count": 18,
   "metadata": {},
   "outputs": [
    {
     "name": "stdout",
     "output_type": "stream",
     "text": [
      "Ingrese un número: 1237\n",
      "El número ingresado es impar\n"
     ]
    }
   ],
   "source": [
    "par_o_impar = int(input(\"Ingrese un número: \"))\n",
    "if par_o_impar%2 == 0:\n",
    "    print(\"El número ingresado es par\")\n",
    "else:\n",
    "    print(\"El número ingresado es impar\")"
   ]
  },
  {
   "cell_type": "markdown",
   "metadata": {},
   "source": [
    "#### 12. Escriba una función que reciba una lista  como parámetro y devuelva una nueva lista que contenga todos los elementos de la primera lista menos todos los duplicados.\n"
   ]
  },
  {
   "cell_type": "code",
   "execution_count": 20,
   "metadata": {},
   "outputs": [
    {
     "name": "stdout",
     "output_type": "stream",
     "text": [
      "[0, 1, 2, 3, 4, 5, 6, 8, 9, 89]\n"
     ]
    }
   ],
   "source": [
    "def lista(x):\n",
    "    y = set(x)\n",
    "    z = list(y)\n",
    "    return z\n",
    "\n",
    "print(lista([1,1,2,3,5,9,8,4,3,5,9,8,4,6,5,4,5,3,2,4,9,0,4,89,0]))"
   ]
  },
  {
   "cell_type": "markdown",
   "metadata": {},
   "source": [
    "#### 13. Haz un juego de dos jugadores de piedra, papel y tijeras, Dada una función de dos entradas, compáralas, imprime un mensaje de felicitaciones al ganador."
   ]
  },
  {
   "cell_type": "code",
   "execution_count": 58,
   "metadata": {},
   "outputs": [
    {
     "name": "stdout",
     "output_type": "stream",
     "text": [
      "Jugador a: Alex\n",
      "Jugador b: Jessica\n",
      "Felicidades,  Alex\n",
      "None\n"
     ]
    }
   ],
   "source": [
    "nombre_1 = input(\"Jugador a: \")\n",
    "nombre_2 = input(\"Jugador b: \")\n",
    "piedra = \"piedra\"\n",
    "papel = \"papel\"\n",
    "tijeras = \"tijeras\"\n",
    "def juego(a,b):\n",
    "    if a==piedra and b==piedra:\n",
    "        print(\"Empate\")\n",
    "    elif a==piedra and b==papel:\n",
    "        print(\"Felicidades, \",nombre_2)\n",
    "    elif a==piedra and b==tijeras:\n",
    "        print(\"Felicidades, \",nombre_1)\n",
    "        \n",
    "    elif a==papel and b==papel:\n",
    "        print(\"Empate\")\n",
    "    elif a==papel and b==piedra:\n",
    "        print(\"Felicidades, \",nombre_1)\n",
    "    elif a==papel and b==tijeras:\n",
    "        print(\"Felicidades, \",nombre_2)\n",
    "        \n",
    "    \n",
    "    elif a==tijeras and b==tijeras:\n",
    "        print(\"Empate\")\n",
    "    elif a==tijeras and b==piedra:\n",
    "        print(\"Felicidades, \",nombre_2)\n",
    "    elif a==tijeras and b==papel:\n",
    "        print(\"Felicidades, \",nombre_1)\n",
    "    \n",
    "\n",
    "        \n",
    "print(juego(papel,piedra))"
   ]
  },
  {
   "cell_type": "markdown",
   "metadata": {},
   "source": [
    "\n",
    "#### 14. Similar al ejercicio pasado, haz un juego de piedra papel y tijeras en una función que: pregunte a los usuarios sobre sus opciones, haga las comparaciones, entregue el resultado. Finalmente pregunte si quieren seguir jugnado y si sí, comience el juego de nuevo. "
   ]
  },
  {
   "cell_type": "code",
   "execution_count": 66,
   "metadata": {},
   "outputs": [
    {
     "name": "stdout",
     "output_type": "stream",
     "text": [
      "Jugador a: asdw\n",
      "¿Piedra, papel o tijeras?: rwqr\n",
      "Jugador b: tes\n",
      "¿Piedra, papel o tijeras?: dgfg\n",
      "Sus parámetros no se encuentran dentro de las opciones\n",
      "¿Jugar de nuevo? (si o no): no\n"
     ]
    }
   ],
   "source": [
    "nombre_1 = input(\"Jugador a: \")\n",
    "a_1 = input(\"¿Piedra, papel o tijeras?: \")\n",
    "a = a_1.lower()\n",
    "\n",
    "nombre_2 = input(\"Jugador b: \")\n",
    "b_1 = input(\"¿Piedra, papel o tijeras?: \")\n",
    "b = b_1.lower()\n",
    "\n",
    "piedra = \"piedra\"\n",
    "papel = \"papel\"\n",
    "tijeras = \"tijeras\"\n",
    "def juego(a,b):\n",
    "    if a==piedra and b==piedra:\n",
    "        print(\"Empate\")\n",
    "    elif a==piedra and b==papel:\n",
    "        print(\"Felicidades, \",nombre_2)\n",
    "    elif a==piedra and b==tijeras:\n",
    "        print(\"Felicidades, \",nombre_1)\n",
    "        \n",
    "    elif a==papel and b==papel:\n",
    "        print(\"Empate\")\n",
    "    elif a==papel and b==piedra:\n",
    "        print(\"Felicidades, \",nombre_1)\n",
    "    elif a==papel and b==tijeras:\n",
    "        print(\"Felicidades, \",nombre_2)\n",
    "        \n",
    "    \n",
    "    elif a==tijeras and b==tijeras:\n",
    "        print(\"Empate\")\n",
    "    elif a==tijeras and b==piedra:\n",
    "        print(\"Felicidades, \",nombre_2)\n",
    "    elif a==tijeras and b==papel:\n",
    "        print(\"Felicidades, \",nombre_1)\n",
    "    else:\n",
    "        print(\"Sus parámetros no se encuentran dentro de las opciones\")\n",
    "\n",
    "if __name__ == \"__main__\":\n",
    "    juego(a,b)\n",
    "    \n",
    "    \n",
    "again = input(\"¿Jugar de nuevo? (si o no): \")\n",
    "if again == \"si\":\n",
    "    print(\"Jugador a \")\n",
    "    a_1 = input(\"¿Piedra, papel o tijeras?: \")\n",
    "    a = a_1.lower()\n",
    "\n",
    "    print(\"Jugador b \")\n",
    "    b_1 = input(\"¿Piedra, papel o tijeras?: \")\n",
    "    b = b_1.lower()\n",
    "    juego(a,b)"
   ]
  },
  {
   "cell_type": "markdown",
   "metadata": {},
   "source": [
    "#### 15. Dada una oración, realice las operaciones necesarias para invertir el orden de las palabras "
   ]
  },
  {
   "cell_type": "code",
   "execution_count": 12,
   "metadata": {},
   "outputs": [
    {
     "name": "stdout",
     "output_type": "stream",
     "text": [
      "Ingrese su oracion: hola soy marvin\n",
      "['h', 'o', 'l', 'a', ' ', 's', 'o', 'y', ' ', 'm', 'a', 'r', 'v', 'i', 'n']\n",
      "['n', 'i', 'v', 'r', 'a', 'm', ' ', 'y', 'o', 's', ' ', 'a', 'l', 'o', 'h']\n"
     ]
    }
   ],
   "source": [
    "oracion = list(input(\"Ingrese su oracion: \"))\n",
    "iteraciones = len(oracion)\n",
    "print(oracion)\n",
    "oracion_backwards = []\n",
    "for i in range(iteraciones):\n",
    "    oracion_backwards.append(oracion.pop())\n",
    "print(str(oracion_backwards))"
   ]
  },
  {
   "cell_type": "markdown",
   "metadata": {},
   "source": [
    "#### 16. Crea un generador de contraseñas, donde la longitud sea un parámetro de entrada para el usuario. Usa letras mayúsculas, minúsculas y números. "
   ]
  },
  {
   "cell_type": "code",
   "execution_count": 47,
   "metadata": {},
   "outputs": [
    {
     "name": "stdout",
     "output_type": "stream",
     "text": [
      "7\n",
      "Su nuevo password es: \n",
      " ['e', 0, 'P', 6, 'A', 'k', 6]\n"
     ]
    }
   ],
   "source": [
    "import numpy as np\n",
    "from numpy.random import rand\n",
    "from numpy.random import shuffle\n",
    "\n",
    "longitud = int(input())\n",
    "mayus = np.array([\"A\",\"B\",\"C\",\"D\",\"E\",\"F\",\"G\",\"H\",\"I\",\"J\",\"K\",\"L\",\"M\",\"N\",\"O\",\"P\",\"Q\",\"R\",\"S\",\"T\",\"U\",\"V\",\"W\",\"X\",\"Y\",\"Z\"])\n",
    "minus = np.array([\"a\",\"b\",\"c\",\"d\",\"e\",\"f\",\"g\",\"h\",\"i\",\"j\",\"k\",\"l\",\"m\",\"n\",\"o\",\"p\",\"q\",\"r\",\"s\",\"t\",\"u\",\"v\",\"w\",\"x\",\"y\",\"z\"])\n",
    "numeros = np.array(list(range(10)))\n",
    "\n",
    "np.random.shuffle(mayus)\n",
    "np.random.shuffle(minus)\n",
    "np.random.shuffle(numeros)\n",
    "\n",
    "n=longitud//3\n",
    "password_1 = mayus[0:n].tolist()\n",
    "password_2 = minus[0:n].tolist()\n",
    "password_3 = numeros[0:n].tolist()\n",
    "\n",
    "password = password_1 + password_2 + password_3\n",
    "\n",
    "if len(password) < longitud:\n",
    "    for i in range(longitud-len(password)):\n",
    "        password.append(numeros[-i])\n",
    "\n",
    "np.random.shuffle(password)\n",
    "print(\"Su nuevo password es: \\n\",password)"
   ]
  },
  {
   "cell_type": "markdown",
   "metadata": {},
   "source": [
    "#### 17. Cree un archivo de texto (extensión .txt) con letras aleatorias (incluyendo espacios) con una extensión de 500 caracteres. "
   ]
  },
  {
   "cell_type": "code",
   "execution_count": 53,
   "metadata": {},
   "outputs": [],
   "source": [
    "import numpy as np\n",
    "\n",
    "longitud = 500\n",
    "letras = [\"A\",\"B\",\"C\",\"D\",\"E\",\"F\",\"G\",\"H\",\"I\",\"J\",\"K\",\"L\",\"M\",\"N\",\"O\",\"P\",\"Q\",\"R\",\"S\",\"T\",\"U\",\"V\",\"W\",\"X\",\"Y\",\"Z\",\" \",\"a\",\"b\",\"c\",\"d\",\"e\",\"f\",\"g\",\"h\",\"i\",\"j\",\"k\",\"l\",\"m\",\"n\",\"o\",\"p\",\"q\",\"r\",\"s\",\"t\",\"u\",\"v\",\"w\",\"x\",\"y\",\"z\"]\n",
    "texto = []\n",
    "for i in range(longitud):\n",
    "    np.random.shuffle(letras)\n",
    "    texto.append(letras[1])\n",
    "with open(\"random.txt\", \"w\") as file:\n",
    "    file.write(str(texto))"
   ]
  },
  {
   "cell_type": "markdown",
   "metadata": {},
   "source": [
    "#### 18. Lee el archivo pasado e invierte todo el texto (hola -> aloh) y guardalo con un nombre diferente. "
   ]
  },
  {
   "cell_type": "code",
   "execution_count": 83,
   "metadata": {},
   "outputs": [
    {
     "name": "stdout",
     "output_type": "stream",
     "text": [
      "]'f' ,'c' ,'f' ,'H' ,'b' ,'P' ,'X' ,'s' ,'Z' ,'t' ,'C' ,'Y' ,'M' ,'b' ,'g' ,'O' ,'k' ,'X' ,'y' ,'p' ,'v' ,'u' ,'W' ,'g' ,'h' ,'u' ,'N' ,' ' ,'a' ,'c' ,'a' ,'M' ,' ' ,'J' ,'Z' ,'g' ,'u' ,'h' ,'k' ,'G' ,'D' ,'g' ,'h' ,'X' ,'I' ,'P' ,'l' ,'A' ,'H' ,'I' ,'H' ,'P' ,'t' ,'y' ,'j' ,'X' ,'H' ,'d' ,'K' ,'e' ,'Y' ,'W' ,'J' ,'W' ,'N' ,'u' ,'e' ,'R' ,'b' ,'a' ,'v' ,'V' ,'r' ,'U' ,'M' ,'p' ,'h' ,'u' ,'S' ,'H' ,'Z' ,'l' ,'x' ,'x' ,'T' ,'b' ,'l' ,'m' ,'t' ,'m' ,'R' ,'f' ,'r' ,'V' ,'s' ,'G' ,'C' ,'F' ,'w' ,'L' ,'e' ,'x' ,'P' ,' ' ,'K' ,'C' ,'Y' ,'m' ,'i' ,'w' ,'p' ,'w' ,'p' ,'n' ,'p' ,'J' ,'i' ,'E' ,'d' ,'Q' ,'B' ,'v' ,'a' ,'x' ,'y' ,'Y' ,'K' ,'O' ,'X' ,'Z' ,'p' ,'d' ,'p' ,'q' ,'W' ,'h' ,'e' ,'R' ,'R' ,'t' ,'b' ,'O' ,'Y' ,'C' ,'k' ,'T' ,'n' ,'f' ,'h' ,'b' ,'m' ,'c' ,'J' ,'U' ,'l' ,'q' ,'j' ,'n' ,'r' ,'K' ,'E' ,'v' ,'Y' ,'O' ,'L' ,'b' ,'K' ,'m' ,'S' ,'g' ,'x' ,'j' ,'S' ,'V' ,'D' ,'D' ,'V' ,'H' ,'d' ,'m' ,'N' ,'x' ,'Y' ,'H' ,'S' ,'t' ,'k' ,'M' ,'s' ,'L' ,'K' ,'a' ,'J' ,'w' ,'I' ,'d' ,'l' ,'y' ,'W' ,'G' ,'z' ,'L' ,'l' ,'o' ,'e' ,'V' ,'D' ,'N' ,'s' ,'e' ,'m' ,'X' ,'f' ,'S' ,'Q' ,'k' ,'P' ,'O' ,'M' ,'B' ,'t' ,'F' ,'b' ,'Y' ,'H' ,'k' ,'a' ,'g' ,'T' ,'V' ,' ' ,'V' ,'r' ,'K' ,'V' ,'U' ,'W' ,'w' ,'t' ,'H' ,'Y' ,'W' ,'H' ,'I' ,'e' ,'O' ,'Y' ,'w' ,' ' ,'v' ,'K' ,'j' ,'S' ,'W' ,'a' ,'c' ,'q' ,'U' ,'r' ,'X' ,'q' ,'i' ,'A' ,' ' ,'V' ,'U' ,'y' ,'J' ,'h' ,'v' ,'e' ,'u' ,'P' ,'N' ,'Y' ,'c' ,'C' ,'Q' ,'X' ,'X' ,'q' ,'O' ,' ' ,'r' ,'n' ,'k' ,'v' ,'D' ,'x' ,'R' ,'Z' ,'e' ,'B' ,'l' ,'T' ,'P' ,'u' ,'V' ,'H' ,'i' ,'P' ,'V' ,'y' ,'Z' ,'r' ,'c' ,'V' ,'p' ,'E' ,'K' ,'E' ,'b' ,'f' ,'f' ,'e' ,'P' ,'d' ,'e' ,'B' ,'C' ,'j' ,'o' ,'R' ,'j' ,'E' ,'W' ,'R' ,'O' ,'d' ,'t' ,'G' ,'E' ,'G' ,'T' ,'x' ,'H' ,'P' ,'q' ,'J' ,'I' ,'p' ,'g' ,'u' ,'X' ,'M' ,'w' ,'G' ,'Q' ,'U' ,'L' ,'n' ,'c' ,'d' ,'Z' ,'F' ,'s' ,'s' ,'T' ,'v' ,'T' ,'T' ,'r' ,'z' ,'t' ,'H' ,'m' ,'g' ,'x' ,'z' ,'b' ,'p' ,'g' ,'G' ,'U' ,'p' ,'u' ,'D' ,'f' ,'G' ,'c' ,'J' ,'C' ,'P' ,'v' ,'F' ,'v' ,'p' ,'w' ,'w' ,'d' ,'p' ,'h' ,'o' ,'l' ,'h' ,'n' ,'p' ,'c' ,'G' ,'l' ,' ' ,'c' ,'l' ,'C' ,'t' ,'J' ,'v' ,'y' ,'T' ,'i' ,'Y' ,'j' ,'p' ,'I' ,'x' ,'n' ,'q' ,'T' ,'d' ,'m' ,'n' ,'b' ,'z' ,' ' ,'s' ,'O' ,'Y' ,'u' ,'C' ,'L' ,'E' ,'Z' ,'F' ,' ' ,'F' ,'e' ,'L' ,'y' ,'a' ,'w' ,'w' ,'z' ,'B' ,'c' ,'M' ,'U' ,'I' ,'U' ,'i' ,'g' ,'l' ,'y' ,'G' ,'m' ,'n' ,'g' ,'x' ,'u' ,'H' ,'s' ,'u' ,'X' ,'t' ,'w' ,'Y' ,'S' ,'H' ,'I' ,'P' ,'n' ,'D' ,'J' ,'N' ,'C' ,'E' ,'o' ,'z' ,'b' ,'X' ,'v' ,'A' ,'o' ,'y' ,'G' ,'j' ,'r' ,'m' ,'J' ,'o' ,'z' ,'g' ,'u' ,'M' ,'B' ,'Q' ,'P' ,'F' ,'F' ,'U' ,'a'[\n"
     ]
    }
   ],
   "source": [
    "new_text = open(\"random.txt\", \"r\")\n",
    "new_text_read = new_text.read()\n",
    "new_text_backwards = new_text_read[::-1]\n",
    "print(new_text_backwards)"
   ]
  },
  {
   "cell_type": "markdown",
   "metadata": {},
   "source": [
    "#### 19. Compara dos listas (pueden ser de diferentes tamaños. Construye dos listas: una con los elementos en común y otra con el resto de los elementos. \n"
   ]
  },
  {
   "cell_type": "code",
   "execution_count": 107,
   "metadata": {},
   "outputs": [
    {
     "name": "stdout",
     "output_type": "stream",
     "text": [
      "Elementos en común: \n",
      "  {0, 3, 5, 7, 8, 9, 'a', 12}\n",
      "Resto de los elementos: \n",
      "  {32, 65, 1, 2, 4, 'b', 6, 72, 46, 79, 56, 89, 25}\n"
     ]
    }
   ],
   "source": [
    "lista_1 = [1,2,6,7,89,9,2,1,3,\"a\",4,0,65,89,12,6,5,89,8,7]\n",
    "lista_2 = [46,25,72,12,32,0,56,\"b\",8,7,9,5,3,79,\"a\"]\n",
    "#new_list = []\n",
    "#for element in lista_1:\n",
    " #   print(element)\n",
    "  #  if element in lista_2:\n",
    "   #     new_list.append(element)\n",
    "\n",
    "lista_1_set = set(lista_1)\n",
    "lista_2_set = set(lista_2)\n",
    "print(\"Elementos en común: \\n \",lista_1_set.intersection(lista_2_set))  \n",
    "\n",
    "#print(lista_1_set.union(lista_2_set))\n",
    "  \n",
    "print(\"Resto de los elementos: \\n \",lista_1_set.union(lista_2_set)  - lista_1_set.intersection(lista_2_set))\n",
    "\n",
    "#print(lista_comun)\n",
    "#print(lista_otros)"
   ]
  }
 ],
 "metadata": {
  "kernelspec": {
   "display_name": "Python 3",
   "language": "python",
   "name": "python3"
  },
  "language_info": {
   "codemirror_mode": {
    "name": "ipython",
    "version": 3
   },
   "file_extension": ".py",
   "mimetype": "text/x-python",
   "name": "python",
   "nbconvert_exporter": "python",
   "pygments_lexer": "ipython3",
   "version": "3.7.4"
  }
 },
 "nbformat": 4,
 "nbformat_minor": 2
}
