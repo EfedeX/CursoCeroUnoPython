{
 "cells": [
  {
   "cell_type": "markdown",
   "metadata": {},
   "source": [
    "# Proyecto - La Divina comedia\n",
    "## 1. Antes de empezar\n",
    "- Planea tu código: Antes de escribir código debemos sentarnos, pensar que hacer, hacer un plan (se le llama pseudocódigo) y luego ya tienes permiso de escribir código. \n",
    "- ¿No se que hacer? Google it! Seguramente en internet tiene seguramente las respuesta\n",
    "- Divide y conquistaras: trabaja segmentando el código en celdas y revisa que cada acción importante se realice la manera correcta\n",
    "- Si crees que usaras recurrentemente la sección de código que hace algo, sería conveniente hacer una función ¿no? \n",
    "\n",
    "\n",
    "## 2. Descripción \n",
    "\n",
    "Para este ejemplo usaremos del texto en ingles de *La Divina Comedia* escrita por Dante Alighieri y fue descargado desde *Project Gutenberg* con nombre **8800.txt**. Existen muchas maneras de realizar este ejercicio, no te preocupes por lo que hacen los demas. Realiza mediante comandos, no uses funciones hasta que se te pida. \n",
    "\n",
    "\n",
    "**Preguntas**\n",
    "\n",
    "\n",
    "- ¿Cuántas palabras existen en los primeros 5,000 caracteres? \n",
    "- ¿Cuántas palabras únicas existen en el mismo rango? \n",
    "- ¿Importan las mayúsculas y minúsculas? \n",
    "- ¿Cuántas veces aparece la palabra **the** en ese rango? REGRESAR UN NUMERO\n",
    "- ¿Puedo saber cuantas veces existe una palabra en el texto cargado? \n",
    "- Crea un diccionario donde asignes el número de apariciones a la palabra existente\n",
    "- ¿Qué pasa con los signos de puntuación, es decir, 'me', 'me;', 'me.', 'me?' y 'me,' son iguales? \n",
    "    - ¿Cuáles existen? ¿Estan todos en la misma posición? \n",
    "- Elimina los signos de puntuación y realiza el mismo ejercicio \n",
    "\n",
    "\n",
    "Ahora crea funciones para realizar las mismas preguntas y usalas para analizar el texto completo (todo un reto). \n",
    "\n",
    "## 3. Comparación de resultados y métodos\n",
    "\n",
    "¡Comparemos la lógica de sus códigos! Nadie piensa igual y la diversidad nos permite encontrar mejores soluciones mediante el diálogo. \n"
   ]
  },
  {
   "cell_type": "code",
   "execution_count": 2,
   "metadata": {},
   "outputs": [],
   "source": [
    "#importar txt\n",
    "txt=open(\"8800.txt\", \"r\")\n",
    "if txt.mode == \"r\":\n",
    "    texto = txt.read()\n",
    "    #print(texto[0:30])\n"
   ]
  },
  {
   "cell_type": "code",
   "execution_count": 3,
   "metadata": {},
   "outputs": [
    {
     "data": {
      "text/plain": [
       "5000"
      ]
     },
     "execution_count": 3,
     "metadata": {},
     "output_type": "execute_result"
    }
   ],
   "source": [
    "#Texto inicia desde \"His glory\"\n",
    "texto.find(\"His glory\") #1206 index\n",
    "text = texto[1206:(5000+1206)]\n",
    "len(text)"
   ]
  },
  {
   "cell_type": "code",
   "execution_count": 40,
   "metadata": {},
   "outputs": [
    {
     "data": {
      "text/plain": [
       "'His glory, by whose might all '"
      ]
     },
     "execution_count": 40,
     "metadata": {},
     "output_type": "execute_result"
    }
   ],
   "source": [
    "text[0:30]"
   ]
  },
  {
   "cell_type": "code",
   "execution_count": 4,
   "metadata": {},
   "outputs": [
    {
     "data": {
      "text/plain": [
       "900"
      ]
     },
     "execution_count": 4,
     "metadata": {},
     "output_type": "execute_result"
    }
   ],
   "source": [
    "#1 Cuántas palabras hay en los primeros 5,000 caracteres\n",
    "lista_text = text.split()\n",
    "len(lista_text)"
   ]
  },
  {
   "cell_type": "code",
   "execution_count": null,
   "metadata": {},
   "outputs": [],
   "source": []
  },
  {
   "cell_type": "code",
   "execution_count": 42,
   "metadata": {},
   "outputs": [
    {
     "data": {
      "text/plain": [
       "551"
      ]
     },
     "execution_count": 42,
     "metadata": {},
     "output_type": "execute_result"
    }
   ],
   "source": [
    "#2 - Cuántas palabras únicas existen en el mismo rango. Respuesta = 551\n",
    "set_texto = set(lista_text)\n",
    "len(set_texto)"
   ]
  },
  {
   "cell_type": "code",
   "execution_count": 21,
   "metadata": {},
   "outputs": [
    {
     "data": {
      "text/plain": [
       "510"
      ]
     },
     "execution_count": 21,
     "metadata": {},
     "output_type": "execute_result"
    }
   ],
   "source": [
    "#3 - importan mayus o minusculas\n",
    "#Respuesta: No, para el conteo total de las palabras, pero sí para los valores únicos de palabras\n",
    "minusculas = text.lower()\n",
    "lista_text_minus = minusculas.split()\n",
    "#len(lista_text_minus) # = 900 palabras totales\n",
    "a=set(lista_text_minus)\n",
    "len(a) # = 510 palabras únicas"
   ]
  },
  {
   "cell_type": "code",
   "execution_count": 51,
   "metadata": {},
   "outputs": [
    {
     "name": "stdout",
     "output_type": "stream",
     "text": [
      "70\n"
     ]
    }
   ],
   "source": [
    "#4 - numero de veces que aparece 'the'\n",
    "#R: 70\n",
    "The = minusculas.count(\"the\")\n",
    "print(The)"
   ]
  },
  {
   "cell_type": "code",
   "execution_count": 52,
   "metadata": {},
   "outputs": [
    {
     "name": "stdout",
     "output_type": "stream",
     "text": [
      "Sí\n"
     ]
    }
   ],
   "source": [
    "#5 Saber cuántas veces existe una palabra en el texto cargado\n",
    "print(\"Sí\")"
   ]
  },
  {
   "cell_type": "code",
   "execution_count": 7,
   "metadata": {},
   "outputs": [
    {
     "data": {
      "text/plain": [
       "{'no': 13}"
      ]
     },
     "execution_count": 7,
     "metadata": {},
     "output_type": "execute_result"
    }
   ],
   "source": [
    "#Crea un diccionario donde asignes el número de apariciones a la palabra existente\n",
    "palabra = \"no\"\n",
    "dicc = {palabra: minusculas.count(palabra)}\n",
    "dicc"
   ]
  },
  {
   "cell_type": "code",
   "execution_count": 53,
   "metadata": {},
   "outputs": [
    {
     "data": {
      "text/plain": [
       "125"
      ]
     },
     "execution_count": 53,
     "metadata": {},
     "output_type": "execute_result"
    }
   ],
   "source": [
    "#Signos de puntuación\n",
    "minusculas.find(\".\")"
   ]
  },
  {
   "cell_type": "code",
   "execution_count": 10,
   "metadata": {},
   "outputs": [],
   "source": [
    "#Eliminar signos de puntuación y realizar el mismo ejercicio\n",
    "alphanumeric = \"\"\n",
    "for character in text:\n",
    "\n",
    "    if character.isalnum() or character.isspace():\n",
    "\n",
    "        alphanumeric += character\n",
    "\n",
    "#print(alphanumeric)"
   ]
  },
  {
   "cell_type": "code",
   "execution_count": 11,
   "metadata": {},
   "outputs": [
    {
     "data": {
      "text/plain": [
       "'His glory by whose might all things are movd\\nPierces the universe and in one part\\nSheds more resplen'"
      ]
     },
     "execution_count": 11,
     "metadata": {},
     "output_type": "execute_result"
    }
   ],
   "source": [
    "alphanumeric[0:100]"
   ]
  },
  {
   "cell_type": "markdown",
   "metadata": {},
   "source": [
    "# Caracteres especiales eliminados. Repetir ejercicio."
   ]
  },
  {
   "cell_type": "code",
   "execution_count": 13,
   "metadata": {},
   "outputs": [
    {
     "data": {
      "text/plain": [
       "900"
      ]
     },
     "execution_count": 13,
     "metadata": {},
     "output_type": "execute_result"
    }
   ],
   "source": [
    "#1 Cuántas palabras hay en los primeros 5,000 caracteres\n",
    "lista_text_2 = alphanumeric.split()\n",
    "len(lista_text_2)"
   ]
  },
  {
   "cell_type": "code",
   "execution_count": 14,
   "metadata": {},
   "outputs": [
    {
     "data": {
      "text/plain": [
       "506"
      ]
     },
     "execution_count": 14,
     "metadata": {},
     "output_type": "execute_result"
    }
   ],
   "source": [
    "#2 - Cuántas palabras únicas existen en el mismo rango. Respuesta = 506\n",
    "set_texto_2 = set(lista_text_2)\n",
    "len(set_texto_2)\n",
    "#Aquí sí hay una diferencia en las palabras únicas. Hay menos."
   ]
  },
  {
   "cell_type": "code",
   "execution_count": 22,
   "metadata": {},
   "outputs": [
    {
     "data": {
      "text/plain": [
       "461"
      ]
     },
     "execution_count": 22,
     "metadata": {},
     "output_type": "execute_result"
    }
   ],
   "source": [
    "#3 - importan mayus o minusculas\n",
    "#Respuesta: Sí para el conteo de palabras únicas. Es menor (461 a diferencia de 510)\n",
    "minusculas_2 = alphanumeric.lower()\n",
    "lista_text_minus_2 = minusculas_2.split()\n",
    "b=set(lista_text_minus_2)\n",
    "len(b) # = 510 palabras únicas"
   ]
  },
  {
   "cell_type": "code",
   "execution_count": 23,
   "metadata": {},
   "outputs": [
    {
     "name": "stdout",
     "output_type": "stream",
     "text": [
      "70\n"
     ]
    }
   ],
   "source": [
    "#4 - numero de veces que aparece 'the'\n",
    "#R: 70\n",
    "The = minusculas_2.count(\"the\")\n",
    "print(The)"
   ]
  },
  {
   "cell_type": "code",
   "execution_count": 24,
   "metadata": {},
   "outputs": [
    {
     "data": {
      "text/plain": [
       "{'me': 25}"
      ]
     },
     "execution_count": 24,
     "metadata": {},
     "output_type": "execute_result"
    }
   ],
   "source": [
    "#Crea un diccionario donde asignes el número de apariciones a la palabra existente\n",
    "palabra = \"me\"\n",
    "dicc = {palabra: minusculas_2.count(palabra)}\n",
    "dicc"
   ]
  },
  {
   "cell_type": "code",
   "execution_count": 25,
   "metadata": {},
   "outputs": [
    {
     "data": {
      "text/plain": [
       "-1"
      ]
     },
     "execution_count": 25,
     "metadata": {},
     "output_type": "execute_result"
    }
   ],
   "source": [
    "#No hay signos de puntuación\n",
    "minusculas_2.find(\".\")\n",
    "#-1 = no encontrado."
   ]
  },
  {
   "cell_type": "markdown",
   "metadata": {},
   "source": [
    "## 4. ¿Quieren más? - Recursos de apoyo \n",
    "\n",
    "- Platarformas: EDX, Coursera, Udemy, DataCamp\n",
    "- Empresas: IBM, Microsoft\n",
    "- Millones de páginas web \n",
    "- Cientos de libros (como los que ya les pasamos) "
   ]
  },
  {
   "cell_type": "markdown",
   "metadata": {},
   "source": [
    "## Ahora crea funciones para realizar las mismas preguntas y usalas para analizar el texto completo (todo un reto)."
   ]
  },
  {
   "cell_type": "code",
   "execution_count": 32,
   "metadata": {},
   "outputs": [],
   "source": [
    "#Función que lee algún archivo txt en el ordenador\n",
    "def txt_lectura(nombre_txt):\n",
    "    txt=open(nombre_txt, \"r\")\n",
    "    if txt.mode == \"r\":\n",
    "        texto = txt.read()\n",
    "        return texto\n",
    "        \n",
    "if __name__ == \"__main__\":\n",
    "    txt_lectura(\"8800.txt\")"
   ]
  },
  {
   "cell_type": "code",
   "execution_count": 33,
   "metadata": {},
   "outputs": [
    {
     "name": "stdout",
     "output_type": "stream",
     "text": [
      "111551\n"
     ]
    }
   ],
   "source": [
    "#Función que calcula el número de palabras totales del texto completo\n",
    "#texto = ''\n",
    "def caracter_total(texto):\n",
    "    lista_txt = texto.split()\n",
    "    return len(lista_txt)\n",
    "\n",
    "print(caracter_total(texto))"
   ]
  },
  {
   "cell_type": "code",
   "execution_count": 35,
   "metadata": {},
   "outputs": [
    {
     "name": "stdout",
     "output_type": "stream",
     "text": [
      "21010\n"
     ]
    }
   ],
   "source": [
    "#Función que muestra cuántas palabras únicas existen \n",
    "def palabras_unicas(texto):\n",
    "    unique_words = set(texto.split())\n",
    "    return len(unique_words)\n",
    "\n",
    "print(palabras_unicas(texto))"
   ]
  },
  {
   "cell_type": "code",
   "execution_count": 37,
   "metadata": {},
   "outputs": [
    {
     "name": "stdout",
     "output_type": "stream",
     "text": [
      "Estas son las palabras únicas en el texto en minuscula\n",
      "19094\n"
     ]
    }
   ],
   "source": [
    "#Función que convierte todo el texto a minúsculas e imprime la cant. de palabras unicas\n",
    "def a_minusculas(texto):\n",
    "    minusculas = texto.lower()\n",
    "    lista_text_minus = minusculas.split()\n",
    "    total_words = len(set(lista_text_minus))\n",
    "    print(\"Estas son las palabras únicas en el texto en minuscula: \")\n",
    "    return total_words\n",
    "\n",
    "print(a_minusculas(texto))"
   ]
  },
  {
   "cell_type": "code",
   "execution_count": 41,
   "metadata": {},
   "outputs": [
    {
     "name": "stdout",
     "output_type": "stream",
     "text": [
      "9412\n"
     ]
    }
   ],
   "source": [
    "# número de veces que aparece cierto string en el texto\n",
    "# número de veces que aparece 'the'\n",
    "string = 'the' #MODIFICAR ESTE ELEMENTO PARA EL CONTEO DE PALABRAS\n",
    "def contar_palabras(string):\n",
    "    The = texto.lower().count(string)\n",
    "    return The\n",
    "    \n",
    "print(contar_palabras(string))"
   ]
  },
  {
   "cell_type": "code",
   "execution_count": 44,
   "metadata": {},
   "outputs": [
    {
     "name": "stdout",
     "output_type": "stream",
     "text": [
      "{'me.': 121}\n"
     ]
    }
   ],
   "source": [
    "#Función que le asigna el número total de veces que aparece en el texto cierta palabra en forma de diccionario\n",
    "palabra = 'me.'\n",
    "\n",
    "def diccionario(palabra):\n",
    "    dicc = {palabra: texto.lower().count(palabra)}\n",
    "    return dicc\n",
    "\n",
    "print(diccionario(palabra))"
   ]
  },
  {
   "cell_type": "code",
   "execution_count": 51,
   "metadata": {},
   "outputs": [
    {
     "name": "stdout",
     "output_type": "stream",
     "text": [
      "596771\n"
     ]
    }
   ],
   "source": [
    "#Función que elimina signos de puntuación de un texto y retorna la longitud del texto.\n",
    "\n",
    "def signos_puntuacion(texto):\n",
    "    alphanumeric = \"\"\n",
    "    for character in texto:\n",
    "        if character.isalnum() or character.isspace():\n",
    "            alphanumeric += character\n",
    "\n",
    "    return len(alphanumeric)\n",
    "    #return alphanumeric[0:200]\n",
    "    \n",
    "print(signos_puntuacion(texto))"
   ]
  },
  {
   "cell_type": "code",
   "execution_count": 48,
   "metadata": {},
   "outputs": [
    {
     "data": {
      "text/plain": [
       "4790"
      ]
     },
     "execution_count": 48,
     "metadata": {},
     "output_type": "execute_result"
    }
   ],
   "source": []
  }
 ],
 "metadata": {
  "kernelspec": {
   "display_name": "Python 3",
   "language": "python",
   "name": "python3"
  },
  "language_info": {
   "codemirror_mode": {
    "name": "ipython",
    "version": 3
   },
   "file_extension": ".py",
   "mimetype": "text/x-python",
   "name": "python",
   "nbconvert_exporter": "python",
   "pygments_lexer": "ipython3",
   "version": "3.7.1"
  }
 },
 "nbformat": 4,
 "nbformat_minor": 2
}
